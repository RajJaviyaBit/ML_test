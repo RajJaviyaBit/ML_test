{
 "cells": [
  {
   "cell_type": "code",
   "execution_count": 1,
   "id": "41e722fe",
   "metadata": {},
   "outputs": [
    {
     "name": "stdout",
     "output_type": "stream",
     "text": [
      "Fast language models are crucial in today's technology-driven world, and their importance can be seen in several aspects:\n",
      "\n",
      "1. **Improved User Experience**: Fast language models enable applications to respond quickly to user input, providing a seamless and interactive experience. This is particularly important for real-time applications, such as chatbots, virtual assistants, and language translation software.\n",
      "2. **Increased Efficiency**: Fast language models can process large amounts of text data quickly, making them ideal for tasks like text classification, sentiment analysis, and information retrieval. This efficiency enables businesses to automate tasks, reduce manual labor, and make data-driven decisions faster.\n",
      "3. **Enhanced Productivity**: With fast language models, developers can build and deploy applications more quickly, reducing the time and effort required to create and maintain language-related features. This, in turn, accelerates the development of new products and services, fostering innovation and competitiveness.\n",
      "4. **Better Support for Multilingual Applications**: Fast language models can handle multiple languages, enabling applications to cater to diverse user bases and expand into new markets. This promotes global communication, cultural exchange, and economic growth.\n",
      "5. **Real-Time Analytics and Insights**: Fast language models can analyze large volumes of text data in real-time, providing instant insights into user behavior, preferences, and trends. This allows businesses to respond promptly to changing market conditions, optimize their strategies, and stay ahead of the competition.\n",
      "6. **Improved Accessibility**: Fast language models can help bridge the gap between languages, cultures, and abilities. For instance, they can facilitate language translation, text-to-speech synthesis, and speech recognition, making it easier for people with disabilities to interact with technology.\n",
      "7. **Competitive Advantage**: Organizations that leverage fast language models can gain a competitive edge in the market. By automating language-related tasks, they can focus on high-value tasks, improve customer satisfaction, and reduce operational costs.\n",
      "8. **Support for Emerging Technologies**: Fast language models are essential for emerging technologies like voice assistants, augmented reality, and the Internet of Things (IoT). They enable these technologies to understand and respond to user input, creating more immersive and interactive experiences.\n",
      "9. **Research and Development**: Fast language models accelerate research in natural language processing (NLP) and machine learning, enabling scientists to explore new ideas, test hypotheses, and develop innovative solutions more quickly.\n",
      "10. **Scalability and Flexibility**: Fast language models can be easily integrated into various applications, from simple chatbots to complex enterprise software. They can also be fine-tuned for specific tasks, domains, or languages, making them a versatile tool for a wide range of use cases.\n",
      "\n",
      "In summary, fast language models are vital for creating responsive, efficient, and scalable applications that can understand and interact with human language. Their importance extends to various industries, from technology and healthcare to finance and education, and they will continue to play a crucial role in shaping the future of human-computer interaction.\n"
     ]
    }
   ],
   "source": [
    "from groq import Groq\n",
    "from dotenv import load_dotenv\n",
    "import os\n",
    "load_dotenv()\n",
    "\n",
    "api = os.getenv(\"GROQ_API_KEY\")\n",
    "client = Groq(\n",
    "    api_key=os.environ.get(\"GROQ_API_KEY\"),\n",
    ")\n",
    "\n",
    "chat_completion = client.chat.completions.create(\n",
    "    messages=[\n",
    "        {\n",
    "            \"role\": \"user\",\n",
    "            \"content\": \"Explain the importance of fast language models\",\n",
    "        }\n",
    "    ],\n",
    "    model=\"llama-3.3-70b-versatile\",\n",
    ")\n",
    "\n",
    "\n",
    "\n",
    "\n",
    "print(chat_completion.choices[0].message.content)"
   ]
  },
  {
   "cell_type": "code",
   "execution_count": 2,
   "id": "10dc38e9",
   "metadata": {},
   "outputs": [
    {
     "data": {
      "text/plain": [
       "ChatCompletion(id='chatcmpl-f69091b6-85b1-49be-86ea-6586622b9417', choices=[Choice(finish_reason='stop', index=0, logprobs=None, message=ChatCompletionMessage(content=\"Fast language models are crucial in today's technology-driven world, and their importance can be seen in several aspects:\\n\\n1. **Improved User Experience**: Fast language models enable applications to respond quickly to user input, providing a seamless and interactive experience. This is particularly important for real-time applications, such as chatbots, virtual assistants, and language translation software.\\n2. **Increased Efficiency**: Fast language models can process large amounts of text data quickly, making them ideal for tasks like text classification, sentiment analysis, and information retrieval. This efficiency enables businesses to automate tasks, reduce manual labor, and make data-driven decisions faster.\\n3. **Enhanced Productivity**: With fast language models, developers can build and deploy applications more quickly, reducing the time and effort required to create and maintain language-related features. This, in turn, accelerates the development of new products and services, fostering innovation and competitiveness.\\n4. **Better Support for Multilingual Applications**: Fast language models can handle multiple languages, enabling applications to cater to diverse user bases and expand into new markets. This promotes global communication, cultural exchange, and economic growth.\\n5. **Real-Time Analytics and Insights**: Fast language models can analyze large volumes of text data in real-time, providing instant insights into user behavior, preferences, and trends. This allows businesses to respond promptly to changing market conditions, optimize their strategies, and stay ahead of the competition.\\n6. **Improved Accessibility**: Fast language models can help bridge the gap between languages, cultures, and abilities. For instance, they can facilitate language translation, text-to-speech synthesis, and speech recognition, making it easier for people with disabilities to interact with technology.\\n7. **Competitive Advantage**: Organizations that leverage fast language models can gain a competitive edge in the market. By automating language-related tasks, they can focus on high-value tasks, improve customer satisfaction, and reduce operational costs.\\n8. **Support for Emerging Technologies**: Fast language models are essential for emerging technologies like voice assistants, augmented reality, and the Internet of Things (IoT). They enable these technologies to understand and respond to user input, creating more immersive and interactive experiences.\\n9. **Research and Development**: Fast language models accelerate research in natural language processing (NLP) and machine learning, enabling scientists to explore new ideas, test hypotheses, and develop innovative solutions more quickly.\\n10. **Scalability and Flexibility**: Fast language models can be easily integrated into various applications, from simple chatbots to complex enterprise software. They can also be fine-tuned for specific tasks, domains, or languages, making them a versatile tool for a wide range of use cases.\\n\\nIn summary, fast language models are vital for creating responsive, efficient, and scalable applications that can understand and interact with human language. Their importance extends to various industries, from technology and healthcare to finance and education, and they will continue to play a crucial role in shaping the future of human-computer interaction.\", role='assistant', executed_tools=None, function_call=None, reasoning=None, tool_calls=None))], created=1759733807, model='llama-3.3-70b-versatile', object='chat.completion', system_fingerprint='fp_9e1e8f8435', usage=CompletionUsage(completion_tokens=592, prompt_tokens=43, total_tokens=635, completion_time=1.4730261470000001, prompt_time=0.002119822, queue_time=0.048935518, total_time=1.475145969), usage_breakdown=None, x_groq={'id': 'req_01k6w4xwdre3f83x2j09qxf139'}, service_tier='on_demand')"
      ]
     },
     "execution_count": 2,
     "metadata": {},
     "output_type": "execute_result"
    }
   ],
   "source": [
    "chat_completion"
   ]
  },
  {
   "cell_type": "code",
   "execution_count": null,
   "id": "424be391",
   "metadata": {},
   "outputs": [],
   "source": [
    "ChatCompletion(id='chatcmpl-f69091b6-85b1-49be-86ea-6586622b9417', choices=[Choice(finish_reason='stop', index=0, logprobs=None, message=ChatCompletionMessage(content=\"Fast language models are crucial in today's technology-driven world, and their importance can be seen in several aspects:\\n\\n1. **Improved User Experience**: Fast language models enable applications to respond quickly to user input, providing a seamless and interactive experience. This is particularly important for real-time applications, such as chatbots, virtual assistants, and language translation software.\\n2. **Increased Efficiency**: Fast language models can process large amounts of text data quickly, making them ideal for tasks like text classification, sentiment analysis, and information retrieval. This efficiency enables businesses to automate tasks, reduce manual labor, and make data-driven decisions faster.\\n3. **Enhanced Productivity**: With fast language models, developers can build and deploy applications more quickly, reducing the time and effort required to create and maintain language-related features. This, in turn, accelerates the development of new products and services, fostering innovation and competitiveness.\\n4. **Better Support for Multilingual Applications**: Fast language models can handle multiple languages, enabling applications to cater to diverse user bases and expand into new markets. This promotes global communication, cultural exchange, and economic growth.\\n5. **Real-Time Analytics and Insights**: Fast language models can analyze large volumes of text data in real-time, providing instant insights into user behavior, preferences, and trends. This allows businesses to respond promptly to changing market conditions, optimize their strategies, and stay ahead of the competition.\\n6. **Improved Accessibility**: Fast language models can help bridge the gap between languages, cultures, and abilities. For instance, they can facilitate language translation, text-to-speech synthesis, and speech recognition, making it easier for people with disabilities to interact with technology.\\n7. **Competitive Advantage**: Organizations that leverage fast language models can gain a competitive edge in the market. By automating language-related tasks, they can focus on high-value tasks, improve customer satisfaction, and reduce operational costs.\\n8. **Support for Emerging Technologies**: Fast language models are essential for emerging technologies like voice assistants, augmented reality, and the Internet of Things (IoT). They enable these technologies to understand and respond to user input, creating more immersive and interactive experiences.\\n9. **Research and Development**: Fast language models accelerate research in natural language processing (NLP) and machine learning, enabling scientists to explore new ideas, test hypotheses, and develop innovative solutions more quickly.\\n10. **Scalability and Flexibility**: Fast language models can be easily integrated into various applications, from simple chatbots to complex enterprise software. They can also be fine-tuned for specific tasks, domains, or languages, making them a versatile tool for a wide range of use cases.\\n\\nIn summary, fast language models are vital for creating responsive, efficient, and scalable applications that can understand and interact with human language. Their importance extends to various industries, from technology and healthcare to finance and education, and they will continue to play a crucial role in shaping the future of human-computer interaction.\", role='assistant', executed_tools=None, function_call=None, reasoning=None, tool_calls=None))], created=1759733807, model='llama-3.3-70b-versatile', object='chat.completion', system_fingerprint='fp_9e1e8f8435', usage=CompletionUsage(completion_tokens=592, prompt_tokens=43, total_tokens=635, completion_time=1.4730261470000001, prompt_time=0.002119822, queue_time=0.048935518, total_time=1.475145969), usage_breakdown=None, x_groq={'id': 'req_01k6w4xwdre3f83x2j09qxf139'}, service_tier='on_demand')"
   ]
  }
 ],
 "metadata": {
  "kernelspec": {
   "display_name": "venv",
   "language": "python",
   "name": "python3"
  },
  "language_info": {
   "codemirror_mode": {
    "name": "ipython",
    "version": 3
   },
   "file_extension": ".py",
   "mimetype": "text/x-python",
   "name": "python",
   "nbconvert_exporter": "python",
   "pygments_lexer": "ipython3",
   "version": "3.12.3"
  }
 },
 "nbformat": 4,
 "nbformat_minor": 5
}
